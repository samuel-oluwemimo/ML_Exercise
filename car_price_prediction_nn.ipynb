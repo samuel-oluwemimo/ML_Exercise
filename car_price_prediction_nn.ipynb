{
  "nbformat": 4,
  "nbformat_minor": 0,
  "metadata": {
    "colab": {
      "provenance": [],
      "authorship_tag": "ABX9TyNkwDKj4QtDgk8/G9a+Z459",
      "include_colab_link": true
    },
    "kernelspec": {
      "name": "python3",
      "display_name": "Python 3"
    },
    "language_info": {
      "name": "python"
    }
  },
  "cells": [
    {
      "cell_type": "markdown",
      "metadata": {
        "id": "view-in-github",
        "colab_type": "text"
      },
      "source": [
        "<a href=\"https://colab.research.google.com/github/samuel-oluwemimo/ML_Exercise/blob/main/car_price_prediction_nn.ipynb\" target=\"_parent\"><img src=\"https://colab.research.google.com/assets/colab-badge.svg\" alt=\"Open In Colab\"/></a>"
      ]
    },
    {
      "cell_type": "code",
      "execution_count": 2,
      "metadata": {
        "colab": {
          "base_uri": "https://localhost:8080/",
          "height": 206
        },
        "id": "tPkbuBWQWnp2",
        "outputId": "92fdf195-4b7e-41c6-aabe-4f7e6733cef6"
      },
      "outputs": [
        {
          "output_type": "execute_result",
          "data": {
            "text/plain": [
              "   v.id  on road old  on road now  years      km  rating  condition  economy  \\\n",
              "0     1       535651       798186      3   78945       1          2       14   \n",
              "1     2       591911       861056      6  117220       5          9        9   \n",
              "2     3       686990       770762      2  132538       2          8       15   \n",
              "3     4       573999       722381      4  101065       4          3       11   \n",
              "4     5       691388       811335      6   61559       3          9       12   \n",
              "\n",
              "   top speed  hp  torque  current price  \n",
              "0        177  73     123       351318.0  \n",
              "1        148  74      95       285001.5  \n",
              "2        181  53      97       215386.0  \n",
              "3        197  54     116       244295.5  \n",
              "4        160  53     105       531114.5  "
            ],
            "text/html": [
              "\n",
              "  <div id=\"df-b5786586-f2db-41f8-b0a4-5e566657e518\" class=\"colab-df-container\">\n",
              "    <div>\n",
              "<style scoped>\n",
              "    .dataframe tbody tr th:only-of-type {\n",
              "        vertical-align: middle;\n",
              "    }\n",
              "\n",
              "    .dataframe tbody tr th {\n",
              "        vertical-align: top;\n",
              "    }\n",
              "\n",
              "    .dataframe thead th {\n",
              "        text-align: right;\n",
              "    }\n",
              "</style>\n",
              "<table border=\"1\" class=\"dataframe\">\n",
              "  <thead>\n",
              "    <tr style=\"text-align: right;\">\n",
              "      <th></th>\n",
              "      <th>v.id</th>\n",
              "      <th>on road old</th>\n",
              "      <th>on road now</th>\n",
              "      <th>years</th>\n",
              "      <th>km</th>\n",
              "      <th>rating</th>\n",
              "      <th>condition</th>\n",
              "      <th>economy</th>\n",
              "      <th>top speed</th>\n",
              "      <th>hp</th>\n",
              "      <th>torque</th>\n",
              "      <th>current price</th>\n",
              "    </tr>\n",
              "  </thead>\n",
              "  <tbody>\n",
              "    <tr>\n",
              "      <th>0</th>\n",
              "      <td>1</td>\n",
              "      <td>535651</td>\n",
              "      <td>798186</td>\n",
              "      <td>3</td>\n",
              "      <td>78945</td>\n",
              "      <td>1</td>\n",
              "      <td>2</td>\n",
              "      <td>14</td>\n",
              "      <td>177</td>\n",
              "      <td>73</td>\n",
              "      <td>123</td>\n",
              "      <td>351318.0</td>\n",
              "    </tr>\n",
              "    <tr>\n",
              "      <th>1</th>\n",
              "      <td>2</td>\n",
              "      <td>591911</td>\n",
              "      <td>861056</td>\n",
              "      <td>6</td>\n",
              "      <td>117220</td>\n",
              "      <td>5</td>\n",
              "      <td>9</td>\n",
              "      <td>9</td>\n",
              "      <td>148</td>\n",
              "      <td>74</td>\n",
              "      <td>95</td>\n",
              "      <td>285001.5</td>\n",
              "    </tr>\n",
              "    <tr>\n",
              "      <th>2</th>\n",
              "      <td>3</td>\n",
              "      <td>686990</td>\n",
              "      <td>770762</td>\n",
              "      <td>2</td>\n",
              "      <td>132538</td>\n",
              "      <td>2</td>\n",
              "      <td>8</td>\n",
              "      <td>15</td>\n",
              "      <td>181</td>\n",
              "      <td>53</td>\n",
              "      <td>97</td>\n",
              "      <td>215386.0</td>\n",
              "    </tr>\n",
              "    <tr>\n",
              "      <th>3</th>\n",
              "      <td>4</td>\n",
              "      <td>573999</td>\n",
              "      <td>722381</td>\n",
              "      <td>4</td>\n",
              "      <td>101065</td>\n",
              "      <td>4</td>\n",
              "      <td>3</td>\n",
              "      <td>11</td>\n",
              "      <td>197</td>\n",
              "      <td>54</td>\n",
              "      <td>116</td>\n",
              "      <td>244295.5</td>\n",
              "    </tr>\n",
              "    <tr>\n",
              "      <th>4</th>\n",
              "      <td>5</td>\n",
              "      <td>691388</td>\n",
              "      <td>811335</td>\n",
              "      <td>6</td>\n",
              "      <td>61559</td>\n",
              "      <td>3</td>\n",
              "      <td>9</td>\n",
              "      <td>12</td>\n",
              "      <td>160</td>\n",
              "      <td>53</td>\n",
              "      <td>105</td>\n",
              "      <td>531114.5</td>\n",
              "    </tr>\n",
              "  </tbody>\n",
              "</table>\n",
              "</div>\n",
              "    <div class=\"colab-df-buttons\">\n",
              "\n",
              "  <div class=\"colab-df-container\">\n",
              "    <button class=\"colab-df-convert\" onclick=\"convertToInteractive('df-b5786586-f2db-41f8-b0a4-5e566657e518')\"\n",
              "            title=\"Convert this dataframe to an interactive table.\"\n",
              "            style=\"display:none;\">\n",
              "\n",
              "  <svg xmlns=\"http://www.w3.org/2000/svg\" height=\"24px\" viewBox=\"0 -960 960 960\">\n",
              "    <path d=\"M120-120v-720h720v720H120Zm60-500h600v-160H180v160Zm220 220h160v-160H400v160Zm0 220h160v-160H400v160ZM180-400h160v-160H180v160Zm440 0h160v-160H620v160ZM180-180h160v-160H180v160Zm440 0h160v-160H620v160Z\"/>\n",
              "  </svg>\n",
              "    </button>\n",
              "\n",
              "  <style>\n",
              "    .colab-df-container {\n",
              "      display:flex;\n",
              "      gap: 12px;\n",
              "    }\n",
              "\n",
              "    .colab-df-convert {\n",
              "      background-color: #E8F0FE;\n",
              "      border: none;\n",
              "      border-radius: 50%;\n",
              "      cursor: pointer;\n",
              "      display: none;\n",
              "      fill: #1967D2;\n",
              "      height: 32px;\n",
              "      padding: 0 0 0 0;\n",
              "      width: 32px;\n",
              "    }\n",
              "\n",
              "    .colab-df-convert:hover {\n",
              "      background-color: #E2EBFA;\n",
              "      box-shadow: 0px 1px 2px rgba(60, 64, 67, 0.3), 0px 1px 3px 1px rgba(60, 64, 67, 0.15);\n",
              "      fill: #174EA6;\n",
              "    }\n",
              "\n",
              "    .colab-df-buttons div {\n",
              "      margin-bottom: 4px;\n",
              "    }\n",
              "\n",
              "    [theme=dark] .colab-df-convert {\n",
              "      background-color: #3B4455;\n",
              "      fill: #D2E3FC;\n",
              "    }\n",
              "\n",
              "    [theme=dark] .colab-df-convert:hover {\n",
              "      background-color: #434B5C;\n",
              "      box-shadow: 0px 1px 3px 1px rgba(0, 0, 0, 0.15);\n",
              "      filter: drop-shadow(0px 1px 2px rgba(0, 0, 0, 0.3));\n",
              "      fill: #FFFFFF;\n",
              "    }\n",
              "  </style>\n",
              "\n",
              "    <script>\n",
              "      const buttonEl =\n",
              "        document.querySelector('#df-b5786586-f2db-41f8-b0a4-5e566657e518 button.colab-df-convert');\n",
              "      buttonEl.style.display =\n",
              "        google.colab.kernel.accessAllowed ? 'block' : 'none';\n",
              "\n",
              "      async function convertToInteractive(key) {\n",
              "        const element = document.querySelector('#df-b5786586-f2db-41f8-b0a4-5e566657e518');\n",
              "        const dataTable =\n",
              "          await google.colab.kernel.invokeFunction('convertToInteractive',\n",
              "                                                    [key], {});\n",
              "        if (!dataTable) return;\n",
              "\n",
              "        const docLinkHtml = 'Like what you see? Visit the ' +\n",
              "          '<a target=\"_blank\" href=https://colab.research.google.com/notebooks/data_table.ipynb>data table notebook</a>'\n",
              "          + ' to learn more about interactive tables.';\n",
              "        element.innerHTML = '';\n",
              "        dataTable['output_type'] = 'display_data';\n",
              "        await google.colab.output.renderOutput(dataTable, element);\n",
              "        const docLink = document.createElement('div');\n",
              "        docLink.innerHTML = docLinkHtml;\n",
              "        element.appendChild(docLink);\n",
              "      }\n",
              "    </script>\n",
              "  </div>\n",
              "\n",
              "\n",
              "<div id=\"df-e74b0f45-42db-43c0-bf78-f2f006f28a77\">\n",
              "  <button class=\"colab-df-quickchart\" onclick=\"quickchart('df-e74b0f45-42db-43c0-bf78-f2f006f28a77')\"\n",
              "            title=\"Suggest charts\"\n",
              "            style=\"display:none;\">\n",
              "\n",
              "<svg xmlns=\"http://www.w3.org/2000/svg\" height=\"24px\"viewBox=\"0 0 24 24\"\n",
              "     width=\"24px\">\n",
              "    <g>\n",
              "        <path d=\"M19 3H5c-1.1 0-2 .9-2 2v14c0 1.1.9 2 2 2h14c1.1 0 2-.9 2-2V5c0-1.1-.9-2-2-2zM9 17H7v-7h2v7zm4 0h-2V7h2v10zm4 0h-2v-4h2v4z\"/>\n",
              "    </g>\n",
              "</svg>\n",
              "  </button>\n",
              "\n",
              "<style>\n",
              "  .colab-df-quickchart {\n",
              "      --bg-color: #E8F0FE;\n",
              "      --fill-color: #1967D2;\n",
              "      --hover-bg-color: #E2EBFA;\n",
              "      --hover-fill-color: #174EA6;\n",
              "      --disabled-fill-color: #AAA;\n",
              "      --disabled-bg-color: #DDD;\n",
              "  }\n",
              "\n",
              "  [theme=dark] .colab-df-quickchart {\n",
              "      --bg-color: #3B4455;\n",
              "      --fill-color: #D2E3FC;\n",
              "      --hover-bg-color: #434B5C;\n",
              "      --hover-fill-color: #FFFFFF;\n",
              "      --disabled-bg-color: #3B4455;\n",
              "      --disabled-fill-color: #666;\n",
              "  }\n",
              "\n",
              "  .colab-df-quickchart {\n",
              "    background-color: var(--bg-color);\n",
              "    border: none;\n",
              "    border-radius: 50%;\n",
              "    cursor: pointer;\n",
              "    display: none;\n",
              "    fill: var(--fill-color);\n",
              "    height: 32px;\n",
              "    padding: 0;\n",
              "    width: 32px;\n",
              "  }\n",
              "\n",
              "  .colab-df-quickchart:hover {\n",
              "    background-color: var(--hover-bg-color);\n",
              "    box-shadow: 0 1px 2px rgba(60, 64, 67, 0.3), 0 1px 3px 1px rgba(60, 64, 67, 0.15);\n",
              "    fill: var(--button-hover-fill-color);\n",
              "  }\n",
              "\n",
              "  .colab-df-quickchart-complete:disabled,\n",
              "  .colab-df-quickchart-complete:disabled:hover {\n",
              "    background-color: var(--disabled-bg-color);\n",
              "    fill: var(--disabled-fill-color);\n",
              "    box-shadow: none;\n",
              "  }\n",
              "\n",
              "  .colab-df-spinner {\n",
              "    border: 2px solid var(--fill-color);\n",
              "    border-color: transparent;\n",
              "    border-bottom-color: var(--fill-color);\n",
              "    animation:\n",
              "      spin 1s steps(1) infinite;\n",
              "  }\n",
              "\n",
              "  @keyframes spin {\n",
              "    0% {\n",
              "      border-color: transparent;\n",
              "      border-bottom-color: var(--fill-color);\n",
              "      border-left-color: var(--fill-color);\n",
              "    }\n",
              "    20% {\n",
              "      border-color: transparent;\n",
              "      border-left-color: var(--fill-color);\n",
              "      border-top-color: var(--fill-color);\n",
              "    }\n",
              "    30% {\n",
              "      border-color: transparent;\n",
              "      border-left-color: var(--fill-color);\n",
              "      border-top-color: var(--fill-color);\n",
              "      border-right-color: var(--fill-color);\n",
              "    }\n",
              "    40% {\n",
              "      border-color: transparent;\n",
              "      border-right-color: var(--fill-color);\n",
              "      border-top-color: var(--fill-color);\n",
              "    }\n",
              "    60% {\n",
              "      border-color: transparent;\n",
              "      border-right-color: var(--fill-color);\n",
              "    }\n",
              "    80% {\n",
              "      border-color: transparent;\n",
              "      border-right-color: var(--fill-color);\n",
              "      border-bottom-color: var(--fill-color);\n",
              "    }\n",
              "    90% {\n",
              "      border-color: transparent;\n",
              "      border-bottom-color: var(--fill-color);\n",
              "    }\n",
              "  }\n",
              "</style>\n",
              "\n",
              "  <script>\n",
              "    async function quickchart(key) {\n",
              "      const quickchartButtonEl =\n",
              "        document.querySelector('#' + key + ' button');\n",
              "      quickchartButtonEl.disabled = true;  // To prevent multiple clicks.\n",
              "      quickchartButtonEl.classList.add('colab-df-spinner');\n",
              "      try {\n",
              "        const charts = await google.colab.kernel.invokeFunction(\n",
              "            'suggestCharts', [key], {});\n",
              "      } catch (error) {\n",
              "        console.error('Error during call to suggestCharts:', error);\n",
              "      }\n",
              "      quickchartButtonEl.classList.remove('colab-df-spinner');\n",
              "      quickchartButtonEl.classList.add('colab-df-quickchart-complete');\n",
              "    }\n",
              "    (() => {\n",
              "      let quickchartButtonEl =\n",
              "        document.querySelector('#df-e74b0f45-42db-43c0-bf78-f2f006f28a77 button');\n",
              "      quickchartButtonEl.style.display =\n",
              "        google.colab.kernel.accessAllowed ? 'block' : 'none';\n",
              "    })();\n",
              "  </script>\n",
              "</div>\n",
              "\n",
              "    </div>\n",
              "  </div>\n"
            ],
            "application/vnd.google.colaboratory.intrinsic+json": {
              "type": "dataframe",
              "variable_name": "dataset",
              "summary": "{\n  \"name\": \"dataset\",\n  \"rows\": 1000,\n  \"fields\": [\n    {\n      \"column\": \"v.id\",\n      \"properties\": {\n        \"dtype\": \"number\",\n        \"std\": 288,\n        \"min\": 1,\n        \"max\": 1000,\n        \"num_unique_values\": 1000,\n        \"samples\": [\n          522,\n          738,\n          741\n        ],\n        \"semantic_type\": \"\",\n        \"description\": \"\"\n      }\n    },\n    {\n      \"column\": \"on road old\",\n      \"properties\": {\n        \"dtype\": \"number\",\n        \"std\": 58407,\n        \"min\": 500265,\n        \"max\": 699859,\n        \"num_unique_values\": 998,\n        \"samples\": [\n          658059,\n          601674,\n          617090\n        ],\n        \"semantic_type\": \"\",\n        \"description\": \"\"\n      }\n    },\n    {\n      \"column\": \"on road now\",\n      \"properties\": {\n        \"dtype\": \"number\",\n        \"std\": 57028,\n        \"min\": 700018,\n        \"max\": 899797,\n        \"num_unique_values\": 998,\n        \"samples\": [\n          755102,\n          863684,\n          734310\n        ],\n        \"semantic_type\": \"\",\n        \"description\": \"\"\n      }\n    },\n    {\n      \"column\": \"years\",\n      \"properties\": {\n        \"dtype\": \"number\",\n        \"std\": 1,\n        \"min\": 2,\n        \"max\": 7,\n        \"num_unique_values\": 6,\n        \"samples\": [\n          3,\n          6,\n          7\n        ],\n        \"semantic_type\": \"\",\n        \"description\": \"\"\n      }\n    },\n    {\n      \"column\": \"km\",\n      \"properties\": {\n        \"dtype\": \"number\",\n        \"std\": 29150,\n        \"min\": 50324,\n        \"max\": 149902,\n        \"num_unique_values\": 997,\n        \"samples\": [\n          61132,\n          62186,\n          137960\n        ],\n        \"semantic_type\": \"\",\n        \"description\": \"\"\n      }\n    },\n    {\n      \"column\": \"rating\",\n      \"properties\": {\n        \"dtype\": \"number\",\n        \"std\": 1,\n        \"min\": 1,\n        \"max\": 5,\n        \"num_unique_values\": 5,\n        \"samples\": [\n          5,\n          3,\n          2\n        ],\n        \"semantic_type\": \"\",\n        \"description\": \"\"\n      }\n    },\n    {\n      \"column\": \"condition\",\n      \"properties\": {\n        \"dtype\": \"number\",\n        \"std\": 2,\n        \"min\": 1,\n        \"max\": 10,\n        \"num_unique_values\": 10,\n        \"samples\": [\n          6,\n          9,\n          5\n        ],\n        \"semantic_type\": \"\",\n        \"description\": \"\"\n      }\n    },\n    {\n      \"column\": \"economy\",\n      \"properties\": {\n        \"dtype\": \"number\",\n        \"std\": 2,\n        \"min\": 8,\n        \"max\": 15,\n        \"num_unique_values\": 8,\n        \"samples\": [\n          9,\n          13,\n          14\n        ],\n        \"semantic_type\": \"\",\n        \"description\": \"\"\n      }\n    },\n    {\n      \"column\": \"top speed\",\n      \"properties\": {\n        \"dtype\": \"number\",\n        \"std\": 19,\n        \"min\": 135,\n        \"max\": 200,\n        \"num_unique_values\": 66,\n        \"samples\": [\n          155,\n          140,\n          177\n        ],\n        \"semantic_type\": \"\",\n        \"description\": \"\"\n      }\n    },\n    {\n      \"column\": \"hp\",\n      \"properties\": {\n        \"dtype\": \"number\",\n        \"std\": 20,\n        \"min\": 50,\n        \"max\": 120,\n        \"num_unique_values\": 71,\n        \"samples\": [\n          77,\n          73,\n          104\n        ],\n        \"semantic_type\": \"\",\n        \"description\": \"\"\n      }\n    },\n    {\n      \"column\": \"torque\",\n      \"properties\": {\n        \"dtype\": \"number\",\n        \"std\": 21,\n        \"min\": 68,\n        \"max\": 140,\n        \"num_unique_values\": 73,\n        \"samples\": [\n          105,\n          98,\n          139\n        ],\n        \"semantic_type\": \"\",\n        \"description\": \"\"\n      }\n    },\n    {\n      \"column\": \"current price\",\n      \"properties\": {\n        \"dtype\": \"number\",\n        \"std\": 126073.25914983758,\n        \"min\": 28226.5,\n        \"max\": 584267.5,\n        \"num_unique_values\": 1000,\n        \"samples\": [\n          383570.5,\n          506854.0,\n          146223.0\n        ],\n        \"semantic_type\": \"\",\n        \"description\": \"\"\n      }\n    }\n  ]\n}"
            }
          },
          "metadata": {},
          "execution_count": 2
        }
      ],
      "source": [
        "import numpy as np\n",
        "import pandas as pd\n",
        "import matplotlib.pyplot as plt\n",
        "import tensorflow as tf\n",
        "from tensorflow.keras.layers import Normalization\n",
        "\n",
        "dataset = pd.read_csv('train.csv')\n",
        "dataset.head()"
      ]
    },
    {
      "cell_type": "code",
      "source": [
        "dataset.shape"
      ],
      "metadata": {
        "colab": {
          "base_uri": "https://localhost:8080/"
        },
        "id": "KDCzW-fwXtbr",
        "outputId": "f477754d-c5ef-4b81-c4f6-3cbaaf9cca8b"
      },
      "execution_count": 3,
      "outputs": [
        {
          "output_type": "execute_result",
          "data": {
            "text/plain": [
              "(1000, 12)"
            ]
          },
          "metadata": {},
          "execution_count": 3
        }
      ]
    },
    {
      "cell_type": "code",
      "source": [
        "tf_data = tf.constant(dataset)\n",
        "tf_data = tf.cast(tf_data, tf.float32)\n",
        "tf_data"
      ],
      "metadata": {
        "colab": {
          "base_uri": "https://localhost:8080/"
        },
        "id": "S31n1L7xYRGS",
        "outputId": "54f38e91-7513-48fa-c17f-7a8d02620e98"
      },
      "execution_count": 4,
      "outputs": [
        {
          "output_type": "execute_result",
          "data": {
            "text/plain": [
              "<tf.Tensor: shape=(1000, 12), dtype=float32, numpy=\n",
              "array([[1.000000e+00, 5.356510e+05, 7.981860e+05, ..., 7.300000e+01,\n",
              "        1.230000e+02, 3.513180e+05],\n",
              "       [2.000000e+00, 5.919110e+05, 8.610560e+05, ..., 7.400000e+01,\n",
              "        9.500000e+01, 2.850015e+05],\n",
              "       [3.000000e+00, 6.869900e+05, 7.707620e+05, ..., 5.300000e+01,\n",
              "        9.700000e+01, 2.153860e+05],\n",
              "       ...,\n",
              "       [9.980000e+02, 6.463440e+05, 8.427330e+05, ..., 1.130000e+02,\n",
              "        8.900000e+01, 4.058710e+05],\n",
              "       [9.990000e+02, 5.355590e+05, 7.324390e+05, ..., 1.120000e+02,\n",
              "        1.280000e+02, 7.439800e+04],\n",
              "       [1.000000e+03, 5.901050e+05, 7.797430e+05, ..., 9.900000e+01,\n",
              "        9.600000e+01, 4.149385e+05]], dtype=float32)>"
            ]
          },
          "metadata": {},
          "execution_count": 4
        }
      ]
    },
    {
      "cell_type": "code",
      "source": [
        "tf_data= tf.random.shuffle(tf_data)\n",
        "tf_data"
      ],
      "metadata": {
        "colab": {
          "base_uri": "https://localhost:8080/"
        },
        "id": "dGn4DlIKYZgV",
        "outputId": "c9daba81-1871-4af8-a9a0-dcb4e8c59fc8"
      },
      "execution_count": 5,
      "outputs": [
        {
          "output_type": "execute_result",
          "data": {
            "text/plain": [
              "<tf.Tensor: shape=(1000, 12), dtype=float32, numpy=\n",
              "array([[6.590000e+02, 5.465230e+05, 7.195900e+05, ..., 9.500000e+01,\n",
              "        1.090000e+02, 1.803685e+05],\n",
              "       [1.050000e+02, 5.002650e+05, 7.531480e+05, ..., 1.080000e+02,\n",
              "        8.400000e+01, 4.176935e+05],\n",
              "       [1.380000e+02, 5.210230e+05, 7.130000e+05, ..., 5.700000e+01,\n",
              "        1.260000e+02, 3.826760e+05],\n",
              "       ...,\n",
              "       [6.230000e+02, 5.988760e+05, 8.191610e+05, ..., 7.600000e+01,\n",
              "        1.380000e+02, 3.324785e+05],\n",
              "       [8.740000e+02, 6.740510e+05, 7.089190e+05, ..., 5.200000e+01,\n",
              "        7.500000e+01, 2.057165e+05],\n",
              "       [2.810000e+02, 6.909550e+05, 7.148040e+05, ..., 8.400000e+01,\n",
              "        1.260000e+02, 4.328360e+05]], dtype=float32)>"
            ]
          },
          "metadata": {},
          "execution_count": 5
        }
      ]
    },
    {
      "cell_type": "code",
      "source": [
        "X = tf_data[:, 3:-1]\n",
        "X.shape"
      ],
      "metadata": {
        "colab": {
          "base_uri": "https://localhost:8080/"
        },
        "id": "JCUJPCbqcRhF",
        "outputId": "33e99ed6-4496-4d5f-9f8b-f45fce028082"
      },
      "execution_count": 6,
      "outputs": [
        {
          "output_type": "execute_result",
          "data": {
            "text/plain": [
              "TensorShape([1000, 8])"
            ]
          },
          "metadata": {},
          "execution_count": 6
        }
      ]
    },
    {
      "cell_type": "code",
      "source": [
        "y = tf_data[:, -1]\n",
        "y.shape"
      ],
      "metadata": {
        "colab": {
          "base_uri": "https://localhost:8080/"
        },
        "id": "B7m1Sqccci-w",
        "outputId": "b5dd6125-fdaa-431e-e436-974a27263571"
      },
      "execution_count": 7,
      "outputs": [
        {
          "output_type": "execute_result",
          "data": {
            "text/plain": [
              "TensorShape([1000])"
            ]
          },
          "metadata": {},
          "execution_count": 7
        }
      ]
    },
    {
      "cell_type": "code",
      "source": [
        "normalizer = Normalization()\n",
        "normalizer.adapt(X)\n",
        "normalizer(X)"
      ],
      "metadata": {
        "colab": {
          "base_uri": "https://localhost:8080/"
        },
        "id": "5g4kqFxxcmQw",
        "outputId": "ea30546e-d287-4ae2-c5ba-4ce2421a2391"
      },
      "execution_count": 8,
      "outputs": [
        {
          "output_type": "execute_result",
          "data": {
            "text/plain": [
              "<tf.Tensor: shape=(1000, 8), dtype=float32, numpy=\n",
              "array([[ 0.83749485,  0.45808098,  1.4350005 , ...,  1.6654116 ,\n",
              "         0.5097853 ,  0.26496223],\n",
              "       [ 1.4194926 , -1.6328115 ,  1.4350005 , ...,  0.88735217,\n",
              "         1.1437252 , -0.92278886],\n",
              "       [ 0.2554971 , -1.1754031 ,  1.4350005 , ...,  0.5242578 ,\n",
              "        -1.3432697 ,  1.0726329 ],\n",
              "       ...,\n",
              "       [ 0.83749485,  0.01220467,  0.00855854, ..., -0.04631917,\n",
              "        -0.41674218,  1.6427535 ],\n",
              "       [-1.4904962 ,  0.73245054,  0.7217795 , ..., -0.20193106,\n",
              "        -1.5870926 , -1.3503792 ],\n",
              "       [ 0.83749485, -1.1182914 ,  0.7217795 , ..., -0.8243786 ,\n",
              "        -0.02662536,  1.0726329 ]], dtype=float32)>"
            ]
          },
          "metadata": {},
          "execution_count": 8
        }
      ]
    },
    {
      "cell_type": "code",
      "source": [
        "\n",
        "model = tf.keras.Sequential([\n",
        "    normalizer,\n",
        "    tf.keras.layers.Input(shape = (8,)),\n",
        "    tf.keras.layers.Dense(128, activation='relu'),\n",
        "    tf.keras.layers.Dense(128, activation='relu'),\n",
        "    tf.keras.layers.Dense(128, activation='relu'),\n",
        "    tf.keras.layers.Dense(1)\n",
        "])"
      ],
      "metadata": {
        "id": "HCuzqK95f2ST"
      },
      "execution_count": 9,
      "outputs": []
    },
    {
      "cell_type": "code",
      "source": [
        "model.summary()"
      ],
      "metadata": {
        "colab": {
          "base_uri": "https://localhost:8080/"
        },
        "id": "lf2vK1xfo2l4",
        "outputId": "3096c93d-8c39-4b87-84dc-3010e9345ccf"
      },
      "execution_count": 10,
      "outputs": [
        {
          "output_type": "stream",
          "name": "stdout",
          "text": [
            "Model: \"sequential\"\n",
            "_________________________________________________________________\n",
            " Layer (type)                Output Shape              Param #   \n",
            "=================================================================\n",
            " normalization (Normalizati  (None, 8)                 17        \n",
            " on)                                                             \n",
            "                                                                 \n",
            " input_1 (InputLayer)        multiple                  0         \n",
            "                                                                 \n",
            " dense (Dense)               (None, 128)               1152      \n",
            "                                                                 \n",
            " dense_1 (Dense)             (None, 128)               16512     \n",
            "                                                                 \n",
            " dense_2 (Dense)             (None, 128)               16512     \n",
            "                                                                 \n",
            " dense_3 (Dense)             (None, 1)                 129       \n",
            "                                                                 \n",
            "=================================================================\n",
            "Total params: 34322 (134.07 KB)\n",
            "Trainable params: 34305 (134.00 KB)\n",
            "Non-trainable params: 17 (72.00 Byte)\n",
            "_________________________________________________________________\n"
          ]
        }
      ]
    },
    {
      "cell_type": "code",
      "source": [
        "tf.keras.utils.plot_model(model, show_shapes=True, show_layer_names=True)"
      ],
      "metadata": {
        "id": "FiHOwODvp7WU",
        "colab": {
          "base_uri": "https://localhost:8080/",
          "height": 754
        },
        "outputId": "883e8f1c-9374-43f3-b6f4-f8ecfb87da42"
      },
      "execution_count": 12,
      "outputs": [
        {
          "output_type": "execute_result",
          "data": {
            "image/png": "[encoded data removed]",
            "text/plain": [
              "<IPython.core.display.Image object>"
            ]
          },
          "metadata": {},
          "execution_count": 12
        }
      ]
    },
    {
      "cell_type": "code",
      "source": [
        "model.compile(\n",
        "    optimizer= tf.keras.optimizers.Adam(learning_rate=0.001),\n",
        "    loss = tf.keras.losses.MeanSquaredError(),\n",
        "    metrics = [tf.keras.metrics.MeanAbsoluteError()]\n",
        ")"
      ],
      "metadata": {
        "id": "_wHZ8FhSx13c"
      },
      "execution_count": 15,
      "outputs": []
    },
    {
      "cell_type": "code",
      "source": [
        "dataset_size = tf.shape(X)[0]\n",
        "train_size = int(0.8 * tf.cast(dataset_size, tf.float32)) # 80% for training\n",
        "\n",
        "# Shuffle the dataset\n",
        "indices = tf.range(dataset_size)\n",
        "shuffled_indices = tf.random.shuffle(indices)\n",
        "X_shuffled = tf.gather(X, shuffled_indices)\n",
        "y_shuffled = tf.gather(y, shuffled_indices)\n",
        "\n",
        "# Split the dataset\n",
        "X_train = X_shuffled[:train_size]\n",
        "X_test = X_shuffled[train_size:]\n",
        "y_train = y_shuffled[:train_size]\n",
        "y_test = y_shuffled[train_size:]"
      ],
      "metadata": {
        "id": "9L4EoIxD1d2t"
      },
      "execution_count": 23,
      "outputs": []
    },
    {
      "cell_type": "code",
      "source": [
        "history = model.fit(X_train, y_train, epochs=100, validation_split=0.1)"
      ],
      "metadata": {
        "colab": {
          "base_uri": "https://localhost:8080/"
        },
        "id": "gVaDb4OAyRZw",
        "outputId": "834890ac-ffa6-4a1d-e6b6-14376319a1b2"
      },
      "execution_count": 25,
      "outputs": [
        {
          "output_type": "stream",
          "name": "stdout",
          "text": [
            "Epoch 1/100\n",
            "23/23 [==============================] - 0s 7ms/step - loss: 14355126272.0000 - mean_absolute_error: 100660.1250 - val_loss: 14578299904.0000 - val_mean_absolute_error: 101373.6719\n",
            "Epoch 2/100\n",
            "23/23 [==============================] - 0s 5ms/step - loss: 11081180160.0000 - mean_absolute_error: 87870.8359 - val_loss: 11283916800.0000 - val_mean_absolute_error: 89459.8984\n",
            "Epoch 3/100\n",
            "23/23 [==============================] - 0s 4ms/step - loss: 8542069248.0000 - mean_absolute_error: 76239.4609 - val_loss: 8835318784.0000 - val_mean_absolute_error: 79351.4531\n",
            "Epoch 4/100\n",
            "23/23 [==============================] - 0s 3ms/step - loss: 6709968896.0000 - mean_absolute_error: 66918.1797 - val_loss: 7172183040.0000 - val_mean_absolute_error: 71263.8281\n",
            "Epoch 5/100\n",
            "23/23 [==============================] - 0s 5ms/step - loss: 5444981760.0000 - mean_absolute_error: 59876.5703 - val_loss: 5911069696.0000 - val_mean_absolute_error: 64309.2930\n",
            "Epoch 6/100\n",
            "23/23 [==============================] - 0s 4ms/step - loss: 4539959296.0000 - mean_absolute_error: 54428.3594 - val_loss: 5067043840.0000 - val_mean_absolute_error: 59158.3828\n",
            "Epoch 7/100\n",
            "23/23 [==============================] - 0s 6ms/step - loss: 3895968768.0000 - mean_absolute_error: 50401.9961 - val_loss: 4410208768.0000 - val_mean_absolute_error: 54639.9375\n",
            "Epoch 8/100\n",
            "23/23 [==============================] - 0s 4ms/step - loss: 3412472576.0000 - mean_absolute_error: 47143.5820 - val_loss: 3928119808.0000 - val_mean_absolute_error: 51326.0352\n",
            "Epoch 9/100\n",
            "23/23 [==============================] - 0s 4ms/step - loss: 3055244288.0000 - mean_absolute_error: 44719.0039 - val_loss: 3573708800.0000 - val_mean_absolute_error: 48782.2539\n",
            "Epoch 10/100\n",
            "23/23 [==============================] - 0s 5ms/step - loss: 2791167232.0000 - mean_absolute_error: 42798.8125 - val_loss: 3277062656.0000 - val_mean_absolute_error: 46459.8555\n",
            "Epoch 11/100\n",
            "23/23 [==============================] - 0s 5ms/step - loss: 2587043840.0000 - mean_absolute_error: 41333.8516 - val_loss: 3081331456.0000 - val_mean_absolute_error: 44850.3242\n",
            "Epoch 12/100\n",
            "23/23 [==============================] - 0s 5ms/step - loss: 2437452544.0000 - mean_absolute_error: 40274.0781 - val_loss: 2921814272.0000 - val_mean_absolute_error: 43547.1094\n",
            "Epoch 13/100\n",
            "23/23 [==============================] - 0s 4ms/step - loss: 2328132608.0000 - mean_absolute_error: 39432.7070 - val_loss: 2794321920.0000 - val_mean_absolute_error: 42449.0352\n",
            "Epoch 14/100\n",
            "23/23 [==============================] - 0s 4ms/step - loss: 2235455232.0000 - mean_absolute_error: 38744.0352 - val_loss: 2700186112.0000 - val_mean_absolute_error: 41519.1797\n",
            "Epoch 15/100\n",
            "23/23 [==============================] - 0s 4ms/step - loss: 2171838720.0000 - mean_absolute_error: 38192.3594 - val_loss: 2628288000.0000 - val_mean_absolute_error: 40787.0703\n",
            "Epoch 16/100\n",
            "23/23 [==============================] - 0s 4ms/step - loss: 2120416896.0000 - mean_absolute_error: 37780.4102 - val_loss: 2556308224.0000 - val_mean_absolute_error: 40006.8516\n",
            "Epoch 17/100\n",
            "23/23 [==============================] - 0s 5ms/step - loss: 2083124992.0000 - mean_absolute_error: 37368.9766 - val_loss: 2523430144.0000 - val_mean_absolute_error: 39722.7539\n",
            "Epoch 18/100\n",
            "23/23 [==============================] - 0s 4ms/step - loss: 2048268544.0000 - mean_absolute_error: 37072.9102 - val_loss: 2480532992.0000 - val_mean_absolute_error: 39271.7266\n",
            "Epoch 19/100\n",
            "23/23 [==============================] - 0s 5ms/step - loss: 2024635008.0000 - mean_absolute_error: 36837.2656 - val_loss: 2449881088.0000 - val_mean_absolute_error: 38931.3047\n",
            "Epoch 20/100\n",
            "23/23 [==============================] - 0s 5ms/step - loss: 2006757504.0000 - mean_absolute_error: 36643.1602 - val_loss: 2435195392.0000 - val_mean_absolute_error: 38764.3984\n",
            "Epoch 21/100\n",
            "23/23 [==============================] - 0s 4ms/step - loss: 1990083712.0000 - mean_absolute_error: 36503.1055 - val_loss: 2398363648.0000 - val_mean_absolute_error: 38348.1992\n",
            "Epoch 22/100\n",
            "23/23 [==============================] - 0s 3ms/step - loss: 1980632448.0000 - mean_absolute_error: 36424.0234 - val_loss: 2391321088.0000 - val_mean_absolute_error: 38250.5039\n",
            "Epoch 23/100\n",
            "23/23 [==============================] - 0s 4ms/step - loss: 1964354944.0000 - mean_absolute_error: 36267.1797 - val_loss: 2370975744.0000 - val_mean_absolute_error: 38039.5078\n",
            "Epoch 24/100\n",
            "23/23 [==============================] - 0s 4ms/step - loss: 1956699776.0000 - mean_absolute_error: 36177.6719 - val_loss: 2360349952.0000 - val_mean_absolute_error: 37885.7812\n",
            "Epoch 25/100\n",
            "23/23 [==============================] - 0s 4ms/step - loss: 1946527488.0000 - mean_absolute_error: 36088.6875 - val_loss: 2354504192.0000 - val_mean_absolute_error: 37943.4102\n",
            "Epoch 26/100\n",
            "23/23 [==============================] - 0s 5ms/step - loss: 1944221440.0000 - mean_absolute_error: 36056.5039 - val_loss: 2344336128.0000 - val_mean_absolute_error: 37778.5820\n",
            "Epoch 27/100\n",
            "23/23 [==============================] - 0s 4ms/step - loss: 1929397632.0000 - mean_absolute_error: 35939.7656 - val_loss: 2325017856.0000 - val_mean_absolute_error: 37551.1797\n",
            "Epoch 28/100\n",
            "23/23 [==============================] - 0s 5ms/step - loss: 1923462528.0000 - mean_absolute_error: 35871.2305 - val_loss: 2332233216.0000 - val_mean_absolute_error: 37720.2812\n",
            "Epoch 29/100\n",
            "23/23 [==============================] - 0s 5ms/step - loss: 1922214400.0000 - mean_absolute_error: 35863.1094 - val_loss: 2304417024.0000 - val_mean_absolute_error: 37343.5078\n",
            "Epoch 30/100\n",
            "23/23 [==============================] - 0s 5ms/step - loss: 1909779840.0000 - mean_absolute_error: 35771.8164 - val_loss: 2308119808.0000 - val_mean_absolute_error: 37450.3672\n",
            "Epoch 31/100\n",
            "23/23 [==============================] - 0s 4ms/step - loss: 1907358464.0000 - mean_absolute_error: 35735.8477 - val_loss: 2302282496.0000 - val_mean_absolute_error: 37316.7305\n",
            "Epoch 32/100\n",
            "23/23 [==============================] - 0s 5ms/step - loss: 1900324096.0000 - mean_absolute_error: 35680.7891 - val_loss: 2303500288.0000 - val_mean_absolute_error: 37325.6719\n",
            "Epoch 33/100\n",
            "23/23 [==============================] - 0s 5ms/step - loss: 1893999488.0000 - mean_absolute_error: 35609.3398 - val_loss: 2307306752.0000 - val_mean_absolute_error: 37477.3047\n",
            "Epoch 34/100\n",
            "23/23 [==============================] - 0s 4ms/step - loss: 1888714624.0000 - mean_absolute_error: 35588.0234 - val_loss: 2281788928.0000 - val_mean_absolute_error: 37142.0938\n",
            "Epoch 35/100\n",
            "23/23 [==============================] - 0s 4ms/step - loss: 1884912896.0000 - mean_absolute_error: 35549.5117 - val_loss: 2283648512.0000 - val_mean_absolute_error: 37141.8477\n",
            "Epoch 36/100\n",
            "23/23 [==============================] - 0s 4ms/step - loss: 1877431808.0000 - mean_absolute_error: 35489.2422 - val_loss: 2278851072.0000 - val_mean_absolute_error: 37087.5156\n",
            "Epoch 37/100\n",
            "23/23 [==============================] - 0s 5ms/step - loss: 1876378752.0000 - mean_absolute_error: 35479.2930 - val_loss: 2275281920.0000 - val_mean_absolute_error: 37086.3242\n",
            "Epoch 38/100\n",
            "23/23 [==============================] - 0s 6ms/step - loss: 1868342656.0000 - mean_absolute_error: 35402.1289 - val_loss: 2266079744.0000 - val_mean_absolute_error: 37031.7539\n",
            "Epoch 39/100\n",
            "23/23 [==============================] - 0s 6ms/step - loss: 1864434560.0000 - mean_absolute_error: 35379.2070 - val_loss: 2260074752.0000 - val_mean_absolute_error: 36964.2891\n",
            "Epoch 40/100\n",
            "23/23 [==============================] - 0s 5ms/step - loss: 1863210880.0000 - mean_absolute_error: 35350.4648 - val_loss: 2261611520.0000 - val_mean_absolute_error: 36942.3516\n",
            "Epoch 41/100\n",
            "23/23 [==============================] - 0s 4ms/step - loss: 1858857984.0000 - mean_absolute_error: 35331.5039 - val_loss: 2255305728.0000 - val_mean_absolute_error: 36937.1523\n",
            "Epoch 42/100\n",
            "23/23 [==============================] - 0s 4ms/step - loss: 1854080640.0000 - mean_absolute_error: 35302.5820 - val_loss: 2262476032.0000 - val_mean_absolute_error: 37003.5078\n",
            "Epoch 43/100\n",
            "23/23 [==============================] - 0s 5ms/step - loss: 1847133568.0000 - mean_absolute_error: 35218.2148 - val_loss: 2247757056.0000 - val_mean_absolute_error: 36876.4883\n",
            "Epoch 44/100\n",
            "23/23 [==============================] - 0s 5ms/step - loss: 1842623872.0000 - mean_absolute_error: 35178.0156 - val_loss: 2238352896.0000 - val_mean_absolute_error: 36815.0938\n",
            "Epoch 45/100\n",
            "23/23 [==============================] - 0s 5ms/step - loss: 1839701632.0000 - mean_absolute_error: 35137.7969 - val_loss: 2239517696.0000 - val_mean_absolute_error: 36740.7422\n",
            "Epoch 46/100\n",
            "23/23 [==============================] - 0s 5ms/step - loss: 1837987328.0000 - mean_absolute_error: 35149.5000 - val_loss: 2238862336.0000 - val_mean_absolute_error: 36803.6680\n",
            "Epoch 47/100\n",
            "23/23 [==============================] - 0s 5ms/step - loss: 1832535168.0000 - mean_absolute_error: 35091.4258 - val_loss: 2235168256.0000 - val_mean_absolute_error: 36793.2227\n",
            "Epoch 48/100\n",
            "23/23 [==============================] - 0s 4ms/step - loss: 1829692544.0000 - mean_absolute_error: 35079.2070 - val_loss: 2236768000.0000 - val_mean_absolute_error: 36794.9297\n",
            "Epoch 49/100\n",
            "23/23 [==============================] - 0s 4ms/step - loss: 1823185152.0000 - mean_absolute_error: 35014.9297 - val_loss: 2227636992.0000 - val_mean_absolute_error: 36706.0078\n",
            "Epoch 50/100\n",
            "23/23 [==============================] - 0s 5ms/step - loss: 1826312320.0000 - mean_absolute_error: 35032.3711 - val_loss: 2232322560.0000 - val_mean_absolute_error: 36751.6562\n",
            "Epoch 51/100\n",
            "23/23 [==============================] - 0s 5ms/step - loss: 1817147264.0000 - mean_absolute_error: 34984.6523 - val_loss: 2218259968.0000 - val_mean_absolute_error: 36653.8359\n",
            "Epoch 52/100\n",
            "23/23 [==============================] - 0s 5ms/step - loss: 1811517184.0000 - mean_absolute_error: 34919.7734 - val_loss: 2218994944.0000 - val_mean_absolute_error: 36696.8633\n",
            "Epoch 53/100\n",
            "23/23 [==============================] - 0s 5ms/step - loss: 1811051008.0000 - mean_absolute_error: 34920.5039 - val_loss: 2227491072.0000 - val_mean_absolute_error: 36816.8672\n",
            "Epoch 54/100\n",
            "23/23 [==============================] - 0s 5ms/step - loss: 1808803200.0000 - mean_absolute_error: 34876.8711 - val_loss: 2212942080.0000 - val_mean_absolute_error: 36657.7500\n",
            "Epoch 55/100\n",
            "23/23 [==============================] - 0s 5ms/step - loss: 1804458624.0000 - mean_absolute_error: 34868.6172 - val_loss: 2206544384.0000 - val_mean_absolute_error: 36610.5547\n",
            "Epoch 56/100\n",
            "23/23 [==============================] - 0s 6ms/step - loss: 1805682432.0000 - mean_absolute_error: 34865.3711 - val_loss: 2212314624.0000 - val_mean_absolute_error: 36670.4570\n",
            "Epoch 57/100\n",
            "23/23 [==============================] - 0s 4ms/step - loss: 1814757760.0000 - mean_absolute_error: 34966.8711 - val_loss: 2206001920.0000 - val_mean_absolute_error: 36701.3828\n",
            "Epoch 58/100\n",
            "23/23 [==============================] - 0s 4ms/step - loss: 1792074624.0000 - mean_absolute_error: 34743.7344 - val_loss: 2213587456.0000 - val_mean_absolute_error: 36683.8320\n",
            "Epoch 59/100\n",
            "23/23 [==============================] - 0s 4ms/step - loss: 1792348800.0000 - mean_absolute_error: 34755.7070 - val_loss: 2198428928.0000 - val_mean_absolute_error: 36491.9922\n",
            "Epoch 60/100\n",
            "23/23 [==============================] - 0s 4ms/step - loss: 1787570304.0000 - mean_absolute_error: 34710.3555 - val_loss: 2206853632.0000 - val_mean_absolute_error: 36636.3828\n",
            "Epoch 61/100\n",
            "23/23 [==============================] - 0s 5ms/step - loss: 1786593792.0000 - mean_absolute_error: 34735.2188 - val_loss: 2188953088.0000 - val_mean_absolute_error: 36467.3125\n",
            "Epoch 62/100\n",
            "23/23 [==============================] - 0s 5ms/step - loss: 1785393792.0000 - mean_absolute_error: 34699.2656 - val_loss: 2188294656.0000 - val_mean_absolute_error: 36470.1797\n",
            "Epoch 63/100\n",
            "23/23 [==============================] - 0s 5ms/step - loss: 1781443200.0000 - mean_absolute_error: 34655.4102 - val_loss: 2196991232.0000 - val_mean_absolute_error: 36636.5430\n",
            "Epoch 64/100\n",
            "23/23 [==============================] - 0s 6ms/step - loss: 1773057792.0000 - mean_absolute_error: 34579.2695 - val_loss: 2181399296.0000 - val_mean_absolute_error: 36438.4062\n",
            "Epoch 65/100\n",
            "23/23 [==============================] - 0s 4ms/step - loss: 1773673984.0000 - mean_absolute_error: 34581.9844 - val_loss: 2175196672.0000 - val_mean_absolute_error: 36347.2266\n",
            "Epoch 66/100\n",
            "23/23 [==============================] - 0s 5ms/step - loss: 1772326144.0000 - mean_absolute_error: 34606.5742 - val_loss: 2188879616.0000 - val_mean_absolute_error: 36481.2109\n",
            "Epoch 67/100\n",
            "23/23 [==============================] - 0s 6ms/step - loss: 1767254144.0000 - mean_absolute_error: 34538.6055 - val_loss: 2174991104.0000 - val_mean_absolute_error: 36302.5312\n",
            "Epoch 68/100\n",
            "23/23 [==============================] - 0s 6ms/step - loss: 1763780736.0000 - mean_absolute_error: 34501.8555 - val_loss: 2187861248.0000 - val_mean_absolute_error: 36512.3555\n",
            "Epoch 69/100\n",
            "23/23 [==============================] - 0s 7ms/step - loss: 1759744640.0000 - mean_absolute_error: 34466.7891 - val_loss: 2188629504.0000 - val_mean_absolute_error: 36563.4453\n",
            "Epoch 70/100\n",
            "23/23 [==============================] - 0s 7ms/step - loss: 1762404608.0000 - mean_absolute_error: 34495.4688 - val_loss: 2171844608.0000 - val_mean_absolute_error: 36327.0547\n",
            "Epoch 71/100\n",
            "23/23 [==============================] - 0s 8ms/step - loss: 1755189504.0000 - mean_absolute_error: 34441.2344 - val_loss: 2172561664.0000 - val_mean_absolute_error: 36297.5234\n",
            "Epoch 72/100\n",
            "23/23 [==============================] - 0s 6ms/step - loss: 1759586304.0000 - mean_absolute_error: 34478.8047 - val_loss: 2177898240.0000 - val_mean_absolute_error: 36335.0430\n",
            "Epoch 73/100\n",
            "23/23 [==============================] - 0s 7ms/step - loss: 1751662976.0000 - mean_absolute_error: 34387.2305 - val_loss: 2172714240.0000 - val_mean_absolute_error: 36417.6641\n",
            "Epoch 74/100\n",
            "23/23 [==============================] - 0s 5ms/step - loss: 1753314432.0000 - mean_absolute_error: 34440.0664 - val_loss: 2166975488.0000 - val_mean_absolute_error: 36238.6797\n",
            "Epoch 75/100\n",
            "23/23 [==============================] - 0s 6ms/step - loss: 1753858944.0000 - mean_absolute_error: 34440.6289 - val_loss: 2161019392.0000 - val_mean_absolute_error: 36250.1836\n",
            "Epoch 76/100\n",
            "23/23 [==============================] - 0s 6ms/step - loss: 1746858624.0000 - mean_absolute_error: 34361.7148 - val_loss: 2163116800.0000 - val_mean_absolute_error: 36241.1484\n",
            "Epoch 77/100\n",
            "23/23 [==============================] - 0s 8ms/step - loss: 1740311936.0000 - mean_absolute_error: 34287.2969 - val_loss: 2155574272.0000 - val_mean_absolute_error: 36170.1016\n",
            "Epoch 78/100\n",
            "23/23 [==============================] - 0s 7ms/step - loss: 1741545984.0000 - mean_absolute_error: 34317.3320 - val_loss: 2147277568.0000 - val_mean_absolute_error: 36148.8047\n",
            "Epoch 79/100\n",
            "23/23 [==============================] - 0s 6ms/step - loss: 1737622016.0000 - mean_absolute_error: 34279.5156 - val_loss: 2156143872.0000 - val_mean_absolute_error: 36230.9922\n",
            "Epoch 80/100\n",
            "23/23 [==============================] - 0s 6ms/step - loss: 1739580544.0000 - mean_absolute_error: 34313.7891 - val_loss: 2151133696.0000 - val_mean_absolute_error: 36210.0703\n",
            "Epoch 81/100\n",
            "23/23 [==============================] - 0s 6ms/step - loss: 1738983552.0000 - mean_absolute_error: 34322.7461 - val_loss: 2166638080.0000 - val_mean_absolute_error: 36444.7070\n",
            "Epoch 82/100\n",
            "23/23 [==============================] - 0s 7ms/step - loss: 1733299584.0000 - mean_absolute_error: 34240.6211 - val_loss: 2141278464.0000 - val_mean_absolute_error: 35991.8203\n",
            "Epoch 83/100\n",
            "23/23 [==============================] - 0s 7ms/step - loss: 1733537664.0000 - mean_absolute_error: 34228.9297 - val_loss: 2154699264.0000 - val_mean_absolute_error: 36272.1719\n",
            "Epoch 84/100\n",
            "23/23 [==============================] - 0s 8ms/step - loss: 1728007936.0000 - mean_absolute_error: 34201.7852 - val_loss: 2143381888.0000 - val_mean_absolute_error: 36009.8711\n",
            "Epoch 85/100\n",
            "23/23 [==============================] - 0s 6ms/step - loss: 1729284224.0000 - mean_absolute_error: 34260.4258 - val_loss: 2132663936.0000 - val_mean_absolute_error: 35922.2852\n",
            "Epoch 86/100\n",
            "23/23 [==============================] - 0s 6ms/step - loss: 1727259776.0000 - mean_absolute_error: 34189.4570 - val_loss: 2136024448.0000 - val_mean_absolute_error: 36037.5859\n",
            "Epoch 87/100\n",
            "23/23 [==============================] - 0s 4ms/step - loss: 1730325504.0000 - mean_absolute_error: 34196.0898 - val_loss: 2151027200.0000 - val_mean_absolute_error: 36319.5820\n",
            "Epoch 88/100\n",
            "23/23 [==============================] - 0s 5ms/step - loss: 1723364480.0000 - mean_absolute_error: 34196.4844 - val_loss: 2146156928.0000 - val_mean_absolute_error: 36152.3320\n",
            "Epoch 89/100\n",
            "23/23 [==============================] - 0s 4ms/step - loss: 1720207872.0000 - mean_absolute_error: 34159.7852 - val_loss: 2134920192.0000 - val_mean_absolute_error: 35980.8516\n",
            "Epoch 90/100\n",
            "23/23 [==============================] - 0s 5ms/step - loss: 1714680576.0000 - mean_absolute_error: 34076.4766 - val_loss: 2136372480.0000 - val_mean_absolute_error: 36052.0391\n",
            "Epoch 91/100\n",
            "23/23 [==============================] - 0s 6ms/step - loss: 1719920000.0000 - mean_absolute_error: 34118.4609 - val_loss: 2128737280.0000 - val_mean_absolute_error: 35847.2617\n",
            "Epoch 92/100\n",
            "23/23 [==============================] - 0s 5ms/step - loss: 1714976512.0000 - mean_absolute_error: 34089.8945 - val_loss: 2140897280.0000 - val_mean_absolute_error: 36129.8047\n",
            "Epoch 93/100\n",
            "23/23 [==============================] - 0s 4ms/step - loss: 1711954560.0000 - mean_absolute_error: 34068.6602 - val_loss: 2143228672.0000 - val_mean_absolute_error: 36191.5234\n",
            "Epoch 94/100\n",
            "23/23 [==============================] - 0s 4ms/step - loss: 1706482944.0000 - mean_absolute_error: 33989.3359 - val_loss: 2120259328.0000 - val_mean_absolute_error: 35905.6641\n",
            "Epoch 95/100\n",
            "23/23 [==============================] - 0s 5ms/step - loss: 1703625984.0000 - mean_absolute_error: 33957.8672 - val_loss: 2117505792.0000 - val_mean_absolute_error: 35864.9375\n",
            "Epoch 96/100\n",
            "23/23 [==============================] - 0s 5ms/step - loss: 1709290112.0000 - mean_absolute_error: 34068.4336 - val_loss: 2127820544.0000 - val_mean_absolute_error: 35967.1523\n",
            "Epoch 97/100\n",
            "23/23 [==============================] - 0s 5ms/step - loss: 1705501440.0000 - mean_absolute_error: 34012.5156 - val_loss: 2122887552.0000 - val_mean_absolute_error: 35865.3867\n",
            "Epoch 98/100\n",
            "23/23 [==============================] - 0s 3ms/step - loss: 1697755392.0000 - mean_absolute_error: 33904.2656 - val_loss: 2137225216.0000 - val_mean_absolute_error: 36101.3633\n",
            "Epoch 99/100\n",
            "23/23 [==============================] - 0s 5ms/step - loss: 1698785024.0000 - mean_absolute_error: 33934.5625 - val_loss: 2120704384.0000 - val_mean_absolute_error: 35904.4844\n",
            "Epoch 100/100\n",
            "23/23 [==============================] - 0s 6ms/step - loss: 1695707776.0000 - mean_absolute_error: 33921.1836 - val_loss: 2125175552.0000 - val_mean_absolute_error: 36025.3047\n"
          ]
        }
      ]
    },
    {
      "cell_type": "code",
      "source": [
        "model.evaluate(X_test,y_test)"
      ],
      "metadata": {
        "colab": {
          "base_uri": "https://localhost:8080/"
        },
        "id": "LDeyFiZ4ylpI",
        "outputId": "33d1980b-140e-4f97-96b8-d9d435c13d76"
      },
      "execution_count": 26,
      "outputs": [
        {
          "output_type": "stream",
          "name": "stdout",
          "text": [
            "7/7 [==============================] - 0s 8ms/step - loss: 1937249792.0000 - mean_absolute_error: 35586.0938\n"
          ]
        },
        {
          "output_type": "execute_result",
          "data": {
            "text/plain": [
              "[1937249792.0, 35586.09375]"
            ]
          },
          "metadata": {},
          "execution_count": 26
        }
      ]
    },
    {
      "cell_type": "code",
      "source": [
        "y_pred = model.predict(X_test)"
      ],
      "metadata": {
        "colab": {
          "base_uri": "https://localhost:8080/"
        },
        "id": "s0v3bWe84Ziz",
        "outputId": "16c02a6a-66f2-4543-fb77-c934ef6d3613"
      },
      "execution_count": 29,
      "outputs": [
        {
          "output_type": "stream",
          "name": "stdout",
          "text": [
            "7/7 [==============================] - 0s 7ms/step\n"
          ]
        }
      ]
    },
    {
      "cell_type": "code",
      "source": [
        "y_test[0]"
      ],
      "metadata": {
        "colab": {
          "base_uri": "https://localhost:8080/"
        },
        "id": "lFTHqBHc4fHX",
        "outputId": "7532728c-889f-4208-a6b0-952e461faf75"
      },
      "execution_count": 28,
      "outputs": [
        {
          "output_type": "execute_result",
          "data": {
            "text/plain": [
              "<tf.Tensor: shape=(), dtype=float32, numpy=413424.5>"
            ]
          },
          "metadata": {},
          "execution_count": 28
        }
      ]
    },
    {
      "cell_type": "code",
      "source": [
        "plt.plot(history.history['loss'])\n",
        "plt.plot(history.history['val_loss'])\n",
        "plt.title('Model loss')\n",
        "plt.ylabel('Loss')\n",
        "plt.xlabel('Epoch')\n",
        "plt.legend(['Train', 'Validation'], loc='upper right')\n",
        "plt.show()"
      ],
      "metadata": {
        "colab": {
          "base_uri": "https://localhost:8080/",
          "height": 472
        },
        "id": "sdhUvCpo8FQi",
        "outputId": "ab970ac2-325a-406d-b604-15f2eb55f152"
      },
      "execution_count": 37,
      "outputs": [
        {
          "output_type": "display_data",
          "data": {
            "text/plain": [
              "<Figure size 640x480 with 1 Axes>"
            ],
            "image/png": "[encoded data removed]"
          },
          "metadata": {}
        }
      ]
    },
    {
      "cell_type": "code",
      "source": [
        "ind = np.arange(y_pred.size) # Adjust the x-axis to match the number of predictions\n",
        "plt.figure(figsize=(40,20))\n",
        "\n",
        "width = 0.4\n",
        "\n",
        "plt.bar(ind,  y_pred.flatten(), width, label='Predicted')\n",
        "plt.bar(ind + width, y_test, width, label='Actual')\n",
        "plt.legend(loc='upper left')\n",
        "plt.show()"
      ],
      "metadata": {
        "colab": {
          "base_uri": "https://localhost:8080/",
          "height": 573
        },
        "id": "zm6XYLOw4iz6",
        "outputId": "3183cadc-47e1-446d-f1c2-4bb238e1487e"
      },
      "execution_count": 36,
      "outputs": [
        {
          "output_type": "display_data",
          "data": {
            "text/plain": [
              "<Figure size 4000x2000 with 1 Axes>"
            ],
            "image/png": "[encoded data removed]"
          },
          "metadata": {}
        }
      ]
    },
    {
      "cell_type": "code",
      "source": [],
      "metadata": {
        "id": "Uw8No5CT54NU"
      },
      "execution_count": null,
      "outputs": []
    }
  ]
}